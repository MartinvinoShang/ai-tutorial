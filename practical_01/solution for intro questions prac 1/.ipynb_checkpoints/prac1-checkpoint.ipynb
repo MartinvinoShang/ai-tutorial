{
 "cells": [
  {
   "cell_type": "markdown",
   "metadata": {},
   "source": [
    "# Artificial Intelligence"
   ]
  },
  {
   "cell_type": "markdown",
   "metadata": {},
   "source": [
    "This is the first tutorial - it provides a quick introduction to Python and IPython.\n",
    "\n",
    "The tutorial will be worked on during weeks 1 and 2."
   ]
  },
  {
   "cell_type": "markdown",
   "metadata": {},
   "source": [
    "### Theory Questions (weeks 1 and 2)"
   ]
  },
  {
   "cell_type": "markdown",
   "metadata": {},
   "source": [
    "Reading:\n",
    "Ch1 (intro) and Ch 2 (agents and environment)\n",
    "\n",
    "\n",
    "Sections 3.1 – 3.4 (searching – depth first search and breadth first search)\n",
    "\n",
    "Attempt the following exercises from Ch 1:\n",
    "1.1, 1.3, 1.7, 1.13, 1.14\n",
    "\n",
    "Attempt the following excercises from Ch 2:\n",
    "2.1, 2.4, 2.5, 2.8 \n",
    "\n",
    "Attemp the following excercises from Ch3:\n",
    "3.1, 3.3, 3.9, 3.15, 3.24 \n",
    "(3.9 is an implementation problem - should implement in python)\n",
    "\n",
    "Research problem: search online for a solution to 3.32, explain the proof in your own words.\n"
   ]
  },
  {
   "cell_type": "markdown",
   "metadata": {},
   "source": [
    "### Python"
   ]
  },
  {
   "cell_type": "markdown",
   "metadata": {},
   "source": [
    "Python is a programming language that has been growing in popularity in recent years. There are many reasons for this, but it mostly comes down to Python being easy to learn and use as well as the fact that Python has a very active community that develops amazing extensions to Python!\n",
    "\n",
    "Python has become one of the most frequently used languages in the world of data science due to the ability to almost instantly apply it to a large number of data science problems. When asking companies in different industries and of various sizes what lanuage they would like their data scientists to know when coming in, they almost all agree that Python is the best choice. \n",
    "\n",
    "Most of you have had experience in Java. Both share many characteristics given they are both programming languages and many structures and concepts will be familiar. However, there are differences. You may find you prefer python and it may allow you to be more productive, not just because of the provision of many libraries which implement Data Mining algorithms. \n",
    "\n",
    "Some key differences between Python and Java are:\n",
    "- Python is dynamically typed while Java is statically typed, this has various implications including you never need to declare variables in Python\n",
    "- Python code is more concise (briefer)\n",
    "- Python is more compact\n",
    "\n",
    "For example, the following program is in Java:\n",
    "<br>\n",
    "public class HelloWorld\n",
    "<br>\n",
    "{\n",
    "<br>\n",
    "    public static void main (String[] args)\n",
    "    <br>\n",
    "    {\n",
    "    <br>\n",
    "        System.out.println(\"Hello world!\");\n",
    "        <br>\n",
    "    }\n",
    "    <br>\n",
    "}\n",
    "<br>\n",
    "And this is equivalent to the following better laid out version in java:\n",
    "```\n",
    "public class HelloWorld\n",
    "\n",
    "{\n",
    "    public static void main (String[] args)\n",
    "    {\n",
    "        System.out.println(\"Hello world!\");\n",
    "    }\n",
    "}\n",
    "```\n",
    "\n",
    "In Python the equivalent program is \n",
    "<br>\n",
    "```\n",
    "print(\"Hello, world!\") # Python version 3\n",
    "```\n",
    "In python indentation matters.\n"
   ]
  },
  {
   "cell_type": "markdown",
   "metadata": {},
   "source": [
    "### Python? IPython? IPython notebooks? What is all of this?"
   ]
  },
  {
   "cell_type": "markdown",
   "metadata": {},
   "source": [
    "What is all of this? \n",
    "- Python? \n",
    "- IPython? \n",
    "- IPython notebooks?\n",
    "\n",
    "For you, these terms may be confusing? Don't worry its ok... \n",
    "\n",
    "Python is a lanuage. A computer programming language. It is very popular in lots of industries. It has been around for over 30 years. Development of Python started in December 1989 by Guido van Rossum at Centrum Wiskunde & Informatica (CWI) in the Netherlands.\n",
    "\n",
    "IPython (with an I) is an extension to Python. It was created by scientists for scientists. It is typically used in computer science, machine learning, and physics research. It simply adds some new features to Python.\n",
    "Writing code in either of these is generally done in a long text document with a ton of code that can be pretty duanting to a someone new to the world of programming.\n",
    "\n",
    "IPython Notebooks (with an I, there is no such thing as a Python notebook) is what we are looking at right now. It is a web browser based way of writing Python code. One of the benefits is that it allows you to write in plain text to create, what should feel like, a notebook. The closest analog here would be to relate an IPython notebook to a typical lab notebook kept by \"traditional\" researchers. Anyone coming from chemistry or biology will probably understand what I mean.\n",
    "We will be using IPython notebooks for the rest of the semester. A majority of your class notes will be presented in this format. This will allow us to both have a place for discussion and instruction, but with the added benefit of allowing us to play with data live! \n",
    "\n",
    "The rest of this document will be broken into two main pieces: an introduction to IPython notebooks (how to use them) and then an introduction to the world of Python programming."
   ]
  },
  {
   "cell_type": "markdown",
   "metadata": {},
   "source": [
    "### IPython Notebooks"
   ]
  },
  {
   "cell_type": "markdown",
   "metadata": {},
   "source": [
    "IPython notebooks are made up of cells. There are two basics types of entries in an IPython notebook: text cells, and code cells.\n",
    "\n",
    "You can edit a cell by double clicking on it. You can get it back to the display mode by pressing the \"Run\" button from the toolbar. Try it! To switch between text and code cells, just click a cell and go to \"Cell > Cell Type\" in the menu bar (or use the toolbar)."
   ]
  },
  {
   "cell_type": "markdown",
   "metadata": {},
   "source": [
    "#### Text Cells"
   ]
  },
  {
   "cell_type": "markdown",
   "metadata": {},
   "source": [
    "Let's start a new cell and add a little bit more text.\n",
    "\n",
    "You can do text formatting. For example, you can use asterisks or underscores to emphasize things. Double asterisks are used to make things bold.\n",
    "\n",
    "If you know what LaTeX is, you can write directly in LaTeX by wrapping it in dollar signs, $x = \\frac{-b \\pm \\sqrt{b^2 - 4ac}}{2a}$. Learning $\\LaTeX$ is great for typesetting math formulas.\n",
    "\n",
    "Creating a bulleted list is pretty easy:\n",
    "- One\n",
    "- Two\n",
    "- Three\n",
    "\n",
    "It is also very easy to make a numbered list:\n",
    "1. One\n",
    "1. Two\n",
    "1. Three\n",
    "\n",
    "For a numbered list, start with 1. followed by a space, then it starts numbering for you. Start each line with some number (any number) and a period, then a space. Tab to indent to get subnumbering.\n",
    "\n",
    "This covers almost all of the text formatting you will need to learn. If you are ever stuck, just Google \"Markdown syntax\" since the language the formatting is done in is called Markdown."
   ]
  },
  {
   "cell_type": "markdown",
   "metadata": {},
   "source": [
    "#### Code Cells"
   ]
  },
  {
   "cell_type": "markdown",
   "metadata": {},
   "source": [
    "Now, we will see a \"code\" cell. Here, we simply type any Python code and then click \"Run\". When we run a cell, the code in it is executed and remembered for as long as we keep this window open - this means if you create a variable in a code cell you can refer to the variable by its name in other subsequent cells. Code cells will always start with \"In [ ]:\". Code cells are the default for any new cell."
   ]
  },
  {
   "cell_type": "code",
   "execution_count": 4,
   "metadata": {},
   "outputs": [],
   "source": [
    "x = 5 + 10"
   ]
  },
  {
   "cell_type": "code",
   "execution_count": 7,
   "metadata": {},
   "outputs": [
    {
     "name": "stdout",
     "output_type": "stream",
     "text": [
      "15\n"
     ]
    }
   ],
   "source": [
    "print (x)"
   ]
  },
  {
   "cell_type": "markdown",
   "metadata": {},
   "source": [
    "You can include more complex expressions or programs in a cell as well:"
   ]
  },
  {
   "cell_type": "code",
   "execution_count": 9,
   "metadata": {},
   "outputs": [
    {
     "name": "stdout",
     "output_type": "stream",
     "text": [
      "The value of x is 6.\n",
      "Output: Hi! This is a cell. Press the ▶| button above to run it\n"
     ]
    }
   ],
   "source": [
    "x = 5 + 1\n",
    "print (\"The value of x is \" + str(x) + \".\")\n",
    "print (\"Output: Hi! This is a cell. Press the ▶| button above to run it\")"
   ]
  },
  {
   "cell_type": "markdown",
   "metadata": {},
   "source": [
    "Instead of clicking \"Play\" button, you can run a cell with Ctrl + Enter or Shift + Enter. \n",
    "<br>\n",
    "Experiment with both of those to see what the difference is."
   ]
  },
  {
   "cell_type": "markdown",
   "metadata": {},
   "source": [
    "### Python"
   ]
  },
  {
   "cell_type": "markdown",
   "metadata": {},
   "source": [
    "Let us now examine some of the key elements of Python"
   ]
  },
  {
   "cell_type": "markdown",
   "metadata": {},
   "source": [
    "#### Variables and data types"
   ]
  },
  {
   "cell_type": "markdown",
   "metadata": {},
   "source": [
    "Variables are used to store data. This data can be of a variety of types. Integer numbers, floating (decimal numbers), lists, strings, etc. Let's take a look at some of these:"
   ]
  },
  {
   "cell_type": "code",
   "execution_count": 48,
   "metadata": {},
   "outputs": [],
   "source": [
    "some_integer = 5\n",
    "some_float = 7.1\n",
    "some_list = [1, 2, 3, 4]\n",
    "some_string = \"Rob\"\n",
    "some_dictionary = {'Name': 'Alex', 'Age': 20, 'Major': 'Computer Science'}"
   ]
  },
  {
   "cell_type": "markdown",
   "metadata": {},
   "source": [
    "We can print out these variables."
   ]
  },
  {
   "cell_type": "code",
   "execution_count": 38,
   "metadata": {},
   "outputs": [
    {
     "name": "stdout",
     "output_type": "stream",
     "text": [
      "5\n",
      "7.1\n",
      "[1, 2, 3, 4]\n",
      "Rob\n",
      "{'Name': 'Alex', 'Age': 20, 'Major': 'Computer Science'}\n"
     ]
    }
   ],
   "source": [
    "print (some_integer)\n",
    "print (some_float)\n",
    "print (some_list)\n",
    "print (some_string)\n",
    "print (some_dictionary)"
   ]
  },
  {
   "cell_type": "markdown",
   "metadata": {},
   "source": [
    "What if I want to print some text and then some numbers? One easy way to do this is to realize that printing will always want string data. If you have data that is not a string (like an integer or float), you can convert it to a string."
   ]
  },
  {
   "cell_type": "markdown",
   "metadata": {},
   "source": [
    "print (\"My integer was \" + str(some_integer) + \".\")"
   ]
  },
  {
   "cell_type": "markdown",
   "metadata": {},
   "source": [
    "It is always a good practice to convert everything to a string when printing it out such as by using the function str().\n",
    "\n",
    "Now we look at some basic maths."
   ]
  },
  {
   "cell_type": "code",
   "execution_count": 12,
   "metadata": {},
   "outputs": [
    {
     "data": {
      "text/plain": [
       "12.1"
      ]
     },
     "execution_count": 12,
     "metadata": {},
     "output_type": "execute_result"
    }
   ],
   "source": [
    "some_integer + some_float"
   ]
  },
  {
   "cell_type": "markdown",
   "metadata": {},
   "source": [
    "We can store this as a new variable to use later,"
   ]
  },
  {
   "cell_type": "code",
   "execution_count": 15,
   "metadata": {},
   "outputs": [],
   "source": [
    "my_sum = some_integer + some_float"
   ]
  },
  {
   "cell_type": "code",
   "execution_count": 17,
   "metadata": {},
   "outputs": [
    {
     "name": "stdout",
     "output_type": "stream",
     "text": [
      "12.1\n"
     ]
    }
   ],
   "source": [
    "print (my_sum)"
   ]
  },
  {
   "cell_type": "markdown",
   "metadata": {},
   "source": [
    "What about that list we had? What does that mean? A list is exactly what it sounds like. It's a way to keep a collection of things in order. We can check to see how long our list is,"
   ]
  },
  {
   "cell_type": "code",
   "execution_count": 19,
   "metadata": {},
   "outputs": [
    {
     "name": "stdout",
     "output_type": "stream",
     "text": [
      "4\n"
     ]
    }
   ],
   "source": [
    "print( len(some_list) )"
   ]
  },
  {
   "cell_type": "markdown",
   "metadata": {},
   "source": [
    "This looks good. Our list contained the numbers 1 through 4. What if we want a particular item from the list? How do we look at just the first item? To do a lookup, we use square brackets. Notice that when we created the list originally, we also used square brackets!"
   ]
  },
  {
   "cell_type": "code",
   "execution_count": 20,
   "metadata": {},
   "outputs": [
    {
     "name": "stdout",
     "output_type": "stream",
     "text": [
      "2\n"
     ]
    }
   ],
   "source": [
    "print( some_list[1] )"
   ]
  },
  {
   "cell_type": "markdown",
   "metadata": {},
   "source": [
    "That's the second item, not the first! In Python (and almost every other language), counting start at zero! To get the first item we should look in the 0th space,"
   ]
  },
  {
   "cell_type": "code",
   "execution_count": 22,
   "metadata": {},
   "outputs": [
    {
     "name": "stdout",
     "output_type": "stream",
     "text": [
      "1\n"
     ]
    }
   ],
   "source": [
    "print( some_list[0] )"
   ]
  },
  {
   "cell_type": "markdown",
   "metadata": {},
   "source": [
    "Adding things to the list is done using the append method,"
   ]
  },
  {
   "cell_type": "code",
   "execution_count": 23,
   "metadata": {},
   "outputs": [],
   "source": [
    "some_list.append(5)"
   ]
  },
  {
   "cell_type": "code",
   "execution_count": 30,
   "metadata": {},
   "outputs": [
    {
     "name": "stdout",
     "output_type": "stream",
     "text": [
      "[1, 2, 3, 4]\n"
     ]
    }
   ],
   "source": [
    "print (some_list)"
   ]
  },
  {
   "cell_type": "markdown",
   "metadata": {},
   "source": [
    "You may also have come across dictionaries before - they are also called Hash Maps in other languages such as Java. \n",
    "\n",
    "A dictionary is an unordered set of key value pairs. Each key is separated from its value by a colon (:), the items are separated by commas, and the whole thing is enclosed in curly braces. An empty dictionary without any items is written with just two curly braces, like this: {}.\n",
    "\n",
    "Keys are unique within a dictionary while values may not be. The values of a dictionary can be of any type, but the keys must be of an immutable data type such as strings, numbers, or tuples."
   ]
  },
  {
   "cell_type": "code",
   "execution_count": 49,
   "metadata": {},
   "outputs": [
    {
     "name": "stdout",
     "output_type": "stream",
     "text": [
      "some_dictionary['Name']:  Alex\n",
      "some_dictionary['Age']:  20\n",
      "some_dictionary['Age']:  19\n"
     ]
    }
   ],
   "source": [
    "print (\"some_dictionary['Name']: \", some_dictionary['Name'])\n",
    "print (\"some_dictionary['Age']: \", some_dictionary['Age'])\n",
    "\n",
    "some_dictionary['Age'] = 19; # update existing entry\n",
    "some_dictionary['School'] = \"SUSTech\"; # Add new entry\n",
    "\n",
    "print (\"some_dictionary['Age']: \", some_dictionary['Age'])\n"
   ]
  },
  {
   "cell_type": "code",
   "execution_count": null,
   "metadata": {},
   "outputs": [],
   "source": [
    "# Play around here!\n",
    "# By the way, the pound (hash) symbol here is used to indicate a comment in code.\n"
   ]
  },
  {
   "cell_type": "markdown",
   "metadata": {},
   "source": [
    "#### Functions"
   ]
  },
  {
   "cell_type": "markdown",
   "metadata": {},
   "source": [
    "We have already used these twice! Functions allow us to do predefined operations. Functions are usually some sensible English word ending in open-and-close parentheses. One example is the s"
   ]
  },
  {
   "cell_type": "code",
   "execution_count": 25,
   "metadata": {},
   "outputs": [
    {
     "data": {
      "text/plain": [
       "'5.124'"
      ]
     },
     "execution_count": 25,
     "metadata": {},
     "output_type": "execute_result"
    }
   ],
   "source": [
    "str(5.124)"
   ]
  },
  {
   "cell_type": "markdown",
   "metadata": {},
   "source": [
    "We also used the append() function to add stuff to a list.\n",
    "\n",
    "If we knew we had to do some operation many times, and wanted to save a bit of time, we could define our own function. For example, consider having to calculate the area of a circle."
   ]
  },
  {
   "cell_type": "code",
   "execution_count": 26,
   "metadata": {},
   "outputs": [],
   "source": [
    "def area_of_a_circle(radius):\n",
    "    area = 3.14 * radius * radius\n",
    "    return area"
   ]
  },
  {
   "cell_type": "code",
   "execution_count": 28,
   "metadata": {},
   "outputs": [
    {
     "name": "stdout",
     "output_type": "stream",
     "text": [
      "78.5\n"
     ]
    }
   ],
   "source": [
    "circle_area = area_of_a_circle(5)\n",
    "print( circle_area )"
   ]
  },
  {
   "cell_type": "markdown",
   "metadata": {},
   "source": [
    "This function was helpfully named \"area_of_a_circle\", it takes one argument that we will call radius. It then uses this radius to get the area and then returns it. Now, whenever I want to get the area of some circle, I simply call area_of_a_circle() and place the radius in the middle of the parentheses.\n",
    "\n",
    "Python has many functions, but we will be writing our own very often."
   ]
  },
  {
   "cell_type": "markdown",
   "metadata": {},
   "source": [
    "#### Loops"
   ]
  },
  {
   "cell_type": "markdown",
   "metadata": {},
   "source": [
    "We will be doing a lot of repetative things in Python. This doesn't mean we need to do a ton of copy and pasting, though. We can use loops to make this easy. For example, if we wanted to square each"
   ]
  },
  {
   "cell_type": "code",
   "execution_count": 2,
   "metadata": {},
   "outputs": [
    {
     "name": "stdout",
     "output_type": "stream",
     "text": [
      "1\n",
      "4\n",
      "9\n",
      "16\n",
      "225\n"
     ]
    }
   ],
   "source": [
    "for number in [1, 2, 3, 4, 15]:\n",
    "    print (number * number)"
   ]
  },
  {
   "cell_type": "markdown",
   "metadata": {},
   "source": [
    "The range function makes this even easier,"
   ]
  },
  {
   "cell_type": "code",
   "execution_count": 31,
   "metadata": {},
   "outputs": [
    {
     "name": "stdout",
     "output_type": "stream",
     "text": [
      "0\n",
      "1\n",
      "4\n",
      "9\n",
      "16\n"
     ]
    }
   ],
   "source": [
    "for number in range(5):\n",
    "    print (number * number)"
   ]
  },
  {
   "cell_type": "markdown",
   "metadata": {},
   "source": [
    "Not exactly the same... the range function will start from 0 and go to the last number minus one. We can fix this by telling it to start at 1:"
   ]
  },
  {
   "cell_type": "code",
   "execution_count": 33,
   "metadata": {},
   "outputs": [
    {
     "name": "stdout",
     "output_type": "stream",
     "text": [
      "1\n",
      "4\n",
      "9\n",
      "16\n",
      "25\n"
     ]
    }
   ],
   "source": [
    "for number in range(1, 6):\n",
    "    print (number * number)"
   ]
  },
  {
   "cell_type": "markdown",
   "metadata": {},
   "source": [
    "We aren't limited to this, let's bring in another list:"
   ]
  },
  {
   "cell_type": "code",
   "execution_count": 38,
   "metadata": {},
   "outputs": [
    {
     "name": "stdout",
     "output_type": "stream",
     "text": [
      "Robert is 26 years old.\n",
      "John is 31 years old.\n",
      "Sarah is 29 years old.\n",
      "Qian is 24 years old.\n",
      "Ahmad is 30 years old.\n"
     ]
    }
   ],
   "source": [
    "names = [\"Robert\", \"John\", \"Sarah\", \"Qian\", \"Ahmad\"]\n",
    "ages = [26, 31, 29, 24, 30]\n",
    "\n",
    "for i in range(len(names)):\n",
    "    print (str(names[i]) + \" is \" + str(ages[i]) + \" years old.\")"
   ]
  },
  {
   "cell_type": "markdown",
   "metadata": {},
   "source": [
    "#### Conditionals"
   ]
  },
  {
   "cell_type": "markdown",
   "metadata": {},
   "source": [
    "Sometimes we want to check something before deciding what to do next. For example,"
   ]
  },
  {
   "cell_type": "code",
   "execution_count": 39,
   "metadata": {},
   "outputs": [],
   "source": [
    "def is_best_prof(name):\n",
    "    if name == \"Adam\":\n",
    "        return \"Yes!\"\n",
    "    else:\n",
    "        return \"No!\""
   ]
  },
  {
   "cell_type": "code",
   "execution_count": 42,
   "metadata": {},
   "outputs": [
    {
     "name": "stdout",
     "output_type": "stream",
     "text": [
      "Yes!\n"
     ]
    }
   ],
   "source": [
    "print (is_best_prof(\"Adam\"))"
   ]
  },
  {
   "cell_type": "code",
   "execution_count": 44,
   "metadata": {},
   "outputs": [
    {
     "name": "stdout",
     "output_type": "stream",
     "text": [
      "No!\n"
     ]
    }
   ],
   "source": [
    "print (is_best_prof(\"John\"))"
   ]
  },
  {
   "cell_type": "markdown",
   "metadata": {},
   "source": [
    "#### Packages"
   ]
  },
  {
   "cell_type": "markdown",
   "metadata": {},
   "source": [
    "Python has a ton of packages that make doing complicated stuff very easy. We won't discuss how to install packages, or give a detailed list of what packages exist, but we will give a brief description about how they are used. An easy way to think of why package are useful is by thinking: \"Python packages give us access to MANY functions!\"\n",
    "\n",
    "In this class we will use four packages very frequently: pandas, sklearn, matplotlib, and numpy:\n",
    "\n",
    "- pandas is a data manipulation package. It let's you store data in data frames. More on this next class.\n",
    "- sklearn is a machine learning and data science package. It let's you do fairly complicated machine learning tasks, such as running regressions and building classification models with only a few lines of code!\n",
    "- matplotlib let's you make nice looking plots.\n",
    "- numpy (pronounced num-pie) is used for doing \"math stuff\" such as complex math operations (e.g., square roots, exponents, logs) and give you complex matrix operation abilities.\n",
    "If it's confusing as to why this is useful, don't worry. As we use them throughout the semester, their usefulness will become apparent.\n",
    "\n",
    "To make the contents of a package useful, you need to import it:"
   ]
  },
  {
   "cell_type": "code",
   "execution_count": 48,
   "metadata": {},
   "outputs": [],
   "source": [
    "import pandas\n",
    "import sklearn\n",
    "import matplotlib\n",
    "import numpy"
   ]
  },
  {
   "cell_type": "markdown",
   "metadata": {},
   "source": [
    "We can now use some package specific things. For example, numpy has a function called sqrt() which will give us the square root of a numpy. Since it is part of numpy, we need to tell Python that's where it is by using a dot."
   ]
  },
  {
   "cell_type": "code",
   "execution_count": 49,
   "metadata": {},
   "outputs": [
    {
     "data": {
      "text/plain": [
       "5.0"
      ]
     },
     "execution_count": 49,
     "metadata": {},
     "output_type": "execute_result"
    }
   ],
   "source": [
    "numpy.sqrt(25)"
   ]
  },
  {
   "cell_type": "markdown",
   "metadata": {},
   "source": [
    "You may have noticed that earlier, when we added stuff to our list, we used .append(). This is very similar! Here, we told Python that numpy had a function called sqrt() that we would like to use. Earlier, we told Python that our list (and all lists!) had a function called append() that we would like to use.\n",
    "\n",
    "That's all we say about packages for now. Soon, we will be using packages in every class. With practice, you will understand why they are so great!"
   ]
  },
  {
   "cell_type": "markdown",
   "metadata": {},
   "source": [
    "### IPython Notebooks"
   ]
  },
  {
   "cell_type": "markdown",
   "metadata": {},
   "source": [
    "IPython notebooks make writing Python code easy and neat."
   ]
  },
  {
   "cell_type": "markdown",
   "metadata": {},
   "source": [
    "#### Auto complete"
   ]
  },
  {
   "cell_type": "markdown",
   "metadata": {},
   "source": [
    "One of the most useful things about IPython notebook is its tab completion.\n",
    "\n",
    "Try this: click just after numpy. in the cell below and press Tab several times, slowly to view candidate functions you might want to call"
   ]
  },
  {
   "cell_type": "code",
   "execution_count": null,
   "metadata": {},
   "outputs": [],
   "source": [
    "numpy."
   ]
  },
  {
   "cell_type": "markdown",
   "metadata": {},
   "source": [
    "#### Organisation"
   ]
  },
  {
   "cell_type": "markdown",
   "metadata": {},
   "source": [
    "We typically read IPython notebooks from top to bottom. This means that if a cell relies on a variable or function that was created earlier in the notebook, you must run the corresponding cell to make that information available! For example, if I set the variable  age equal to 26 in the next cell,"
   ]
  },
  {
   "cell_type": "code",
   "execution_count": 53,
   "metadata": {},
   "outputs": [],
   "source": [
    "age = 26"
   ]
  },
  {
   "cell_type": "markdown",
   "metadata": {},
   "source": [
    "but don't run it, it will not be available in the next cell:"
   ]
  },
  {
   "cell_type": "code",
   "execution_count": 55,
   "metadata": {},
   "outputs": [
    {
     "name": "stdout",
     "output_type": "stream",
     "text": [
      "I am 26 years old!\n"
     ]
    }
   ],
   "source": [
    "print (\"I am \" + str(age) + \" years old!\")"
   ]
  },
  {
   "cell_type": "markdown",
   "metadata": {},
   "source": [
    "Now, this does not mean you have to run everything from top to bottom. You could define age later in the notebook, and then scroll up and run any other cells that require it. However, this is bad practice. How is someone supposed to know to scroll down first!? The IPython notebook will always remember the cells in the order you run them. This means you can overwrite variables!"
   ]
  },
  {
   "cell_type": "code",
   "execution_count": 57,
   "metadata": {},
   "outputs": [],
   "source": [
    "gender = \"male\""
   ]
  },
  {
   "cell_type": "code",
   "execution_count": 58,
   "metadata": {},
   "outputs": [
    {
     "name": "stdout",
     "output_type": "stream",
     "text": [
      "male\n"
     ]
    }
   ],
   "source": [
    "print (gender)"
   ]
  },
  {
   "cell_type": "code",
   "execution_count": 61,
   "metadata": {},
   "outputs": [],
   "source": [
    "gender = \"female\""
   ]
  },
  {
   "cell_type": "code",
   "execution_count": 62,
   "metadata": {
    "scrolled": true
   },
   "outputs": [
    {
     "name": "stdout",
     "output_type": "stream",
     "text": [
      "female\n"
     ]
    }
   ],
   "source": [
    "print (gender)"
   ]
  },
  {
   "cell_type": "markdown",
   "metadata": {},
   "source": [
    "This can get confusing. Notice that the number in the \"In [#]:\" statement will always increase by one for every cell you run. This will make keeping track of everything a little easier. But it is recommended to always recommend organizing from top to bottom."
   ]
  },
  {
   "cell_type": "markdown",
   "metadata": {},
   "source": [
    "#### Saving"
   ]
  },
  {
   "cell_type": "markdown",
   "metadata": {},
   "source": [
    "There is an autosave feature and you can also use the save button in the menu or toolbar."
   ]
  },
  {
   "cell_type": "markdown",
   "metadata": {},
   "source": [
    "### Further Information"
   ]
  },
  {
   "cell_type": "markdown",
   "metadata": {},
   "source": [
    "The resources here are endless; but people learn things in different ways. Some people prefer books, others like being taught through lessons, and others just learn by doing. I, unfortunately, learn by doing which means that I'm not an expert on which resources are the best.\n",
    "\n",
    "- <a href=\"http://www.icourse163.org\">icourse163.org</a> has python courses.\n",
    "- <a href=\"https://www.codecademy.com/learn/python\">Codecademy's Python Course</a> will give you a great foundation for Python.\n",
    "- The online book, <a href=\"http://www.diveintopython.net/toc/index.html\"> Diving into Python</a>, has proven to be useful for many people. \n",
    "- ...\n",
    "- Personally, I try to think of a cool project I want to work on and I just try to do it. For example, trying to build a simple interactive text game can be fun. Since you are just jumping in and doing Python, this will lead to a ton of furious searching online. This is normal. This is actually how professional programmers work every day... <a href=\"http://stackoverflow.com\">Stackoverflow.com</a> for instance has an answer to any programming question you can imagine!"
   ]
  },
  {
   "cell_type": "markdown",
   "metadata": {},
   "source": [
    "### Coding Questions"
   ]
  },
  {
   "cell_type": "markdown",
   "metadata": {},
   "source": [
    "#### Introductory questions"
   ]
  },
  {
   "cell_type": "markdown",
   "metadata": {},
   "source": [
    "To master your new found knowledge of Python, you should try these hands-on examples. "
   ]
  },
  {
   "cell_type": "markdown",
   "metadata": {},
   "source": [
    "1\\. Create a list of 5 fruits (make sure to include an apple)."
   ]
  },
  {
   "cell_type": "code",
   "execution_count": null,
   "metadata": {},
   "outputs": [],
   "source": []
  },
  {
   "cell_type": "markdown",
   "metadata": {},
   "source": [
    "2\\. Go through each fruit and check if it is an apple. If it is, print out \"I found it!\". If it's not an apple, do nothing."
   ]
  },
  {
   "cell_type": "code",
   "execution_count": null,
   "metadata": {},
   "outputs": [],
   "source": []
  },
  {
   "cell_type": "markdown",
   "metadata": {},
   "source": [
    "3\\. Add two new fruits to your list."
   ]
  },
  {
   "cell_type": "code",
   "execution_count": null,
   "metadata": {},
   "outputs": [],
   "source": []
  },
  {
   "cell_type": "markdown",
   "metadata": {},
   "source": [
    "4\\. Create a new empty list. Go through your list of fruits, and for each one, add an entry to the new list that tells us how many letters each fruit name is."
   ]
  },
  {
   "cell_type": "code",
   "execution_count": null,
   "metadata": {},
   "outputs": [],
   "source": []
  },
  {
   "cell_type": "markdown",
   "metadata": {},
   "source": [
    "5\\. Make a function called half_squared that takes a list and returns a new list where each element of the original is squared and then divided in half."
   ]
  },
  {
   "cell_type": "code",
   "execution_count": 25,
   "metadata": {},
   "outputs": [],
   "source": [
    "def half_squared(input_list):\n",
    "    output_list = [] # What should we do?\n"
   ]
  },
  {
   "cell_type": "code",
   "execution_count": 26,
   "metadata": {},
   "outputs": [
    {
     "data": {
      "text/plain": [
       "True"
      ]
     },
     "execution_count": 26,
     "metadata": {},
     "output_type": "execute_result"
    }
   ],
   "source": [
    "## this piece of code tests the function gives correct output when input is a list [3,3]\n",
    "half_squared([3,3]) == [4.5,4.5]\n",
    "\n",
    "## can you write another test? \n"
   ]
  },
  {
   "cell_type": "markdown",
   "metadata": {},
   "source": [
    "Change the code from the previous section and change it so that it only accepts integer values in the input list and otherwise stops with a clear message to the user (hint: use a try catch block). \n",
    "\n",
    "Write a suitable test function for this functionality."
   ]
  },
  {
   "cell_type": "code",
   "execution_count": null,
   "metadata": {},
   "outputs": [],
   "source": []
  },
  {
   "cell_type": "markdown",
   "metadata": {},
   "source": [
    "#### Search problems"
   ]
  },
  {
   "cell_type": "markdown",
   "metadata": {},
   "source": [
    "Many problems in AI can be formulated as a problem of finding a way to traverse a graph. We will look at how to apply it in lectures to build agents to solve search problems and also how to represent problems in a suitable way. Here we look at implementing graph search algorithms when the graph is already defined.\n",
    "\n",
    "If there is a start node and a goal node then a solution is a path from the start node to the goal node.\n",
    "\n",
    "A generic searching algorithm is as follows:\n",
    "\n",
    "```\n",
    "Function GRAPH-SEARCH (Graph) returns a solution or failure\n",
    "initialize the start node\n",
    "initialize the goal node\n",
    "loop do\n",
    "    if there are no candidates for expansion then return failure\n",
    "    choose a leaf node for expansion according a stategy\n",
    "    if the node contains a goal state then return the corresponding solution\n",
    "    else expand the node and add the resulting nodes to the search tree\n",
    "end\n",
    "\n",
    "```\n"
   ]
  },
  {
   "cell_type": "markdown",
   "metadata": {},
   "source": [
    "We can use a dictionary to represent a weighted graph in with vertices A - K as an adjaceny list.\n",
    "\n",
    "Consider the following graph and sketch it on a piece of paper."
   ]
  },
  {
   "cell_type": "code",
   "execution_count": 1,
   "metadata": {},
   "outputs": [],
   "source": [
    "def ret_graph():\n",
    "    return {\n",
    "        'A': {'B':1, 'C':1, 'D':1},\n",
    "        'B': {'A':1, 'E':1},\n",
    "        'C': {'A':1, 'F':1},\n",
    "        'D': {'A':1, 'F':1},\n",
    "        'E': {'B':3, 'J':7},\n",
    "        'F': {'C':1, 'D':1, 'K':1, 'G':1},\n",
    "        'G': {'F':1, 'I':1},\n",
    "        'H': {'J':1},\n",
    "        'I': {'G':1, 'J':1},\n",
    "        'J': {'H':1, 'I':1},\n",
    "        'K': {'F':1}\n",
    "    }\n"
   ]
  },
  {
   "cell_type": "code",
   "execution_count": 2,
   "metadata": {},
   "outputs": [],
   "source": [
    "# instantiate a variable graph that contains the graph we just wrote\n",
    "graph = ret_graph()"
   ]
  },
  {
   "cell_type": "code",
   "execution_count": 3,
   "metadata": {},
   "outputs": [
    {
     "data": {
      "text/plain": [
       "{'A': {'B': 1, 'C': 1, 'D': 61},\n",
       " 'B': {'A': 1, 'E': 1},\n",
       " 'C': {'A': 1, 'F': 1},\n",
       " 'D': {'A': 1, 'F': 1},\n",
       " 'E': {'B': 3, 'J': 7},\n",
       " 'F': {'C': 1, 'D': 1, 'G': 1, 'K': 1},\n",
       " 'G': {'F': 1, 'I': 1},\n",
       " 'H': {'J': 1},\n",
       " 'I': {'G': 1, 'J': 1},\n",
       " 'J': {'H': 1, 'I': 1},\n",
       " 'K': {'F': 1}}"
      ]
     },
     "execution_count": 3,
     "metadata": {},
     "output_type": "execute_result"
    }
   ],
   "source": [
    "graph"
   ]
  },
  {
   "attachments": {
    "stack.png": {
     "image/png": "[encoded data removed]"
    }
   },
   "cell_type": "markdown",
   "metadata": {},
   "source": [
    "Depth first search is an algorithm that can be used to search a graph or tree with a strategy of building a path (solution) by going as deeply as possible.\n",
    "\n",
    "We can implement it by the following steps (code this in python)\n",
    "\n",
    "We will write a function that takes a graph coded as an adjacency matrix as above and the outputs a path (solution) or reports a solution is not found.\n",
    "\n",
    "The steps in the algorithm are as follows:\n",
    "```\n",
    "Intialize a starting node and destination node.\n",
    "Create a list for the visited nodes and stack for the next node to be visited.\n",
    "Call the graph function.\n",
    "Initially, the stack is empty.Push the starting node into the stack (stack.append(start) ).\n",
    "Mark the starting node as visited (visited.append(start) ).\n",
    "Repeat with the neighbours of the start node are visited and so on.\n",
    "If the destination node is found stop and return the path.\n",
    "If the destination node is not present then return the string “Not found”.\n",
    "```\n",
    "Note: a stack is a collection structure (a type of list) in which elements are added onto the top and removed from the top (also called a first in first out list).\n",
    "A Stack:\n",
    "![stack.png](attachment:stack.png)\n",
    "In python a stack is implemented by creating a normal list, using the methods append and pop:\n",
    "```\n",
    "my_list = [] # create an empty list\n",
    "my_list.append(element) # add an element onto the top\n",
    "my_list.pop(element) # remove the element from the top\n",
    "```\n",
    "\n",
    "Complete the implementation of DFS below:"
   ]
  },
  {
   "cell_type": "code",
   "execution_count": 37,
   "metadata": {},
   "outputs": [
    {
     "ename": "SyntaxError",
     "evalue": "unexpected EOF while parsing (<ipython-input-37-1942b41269fa>, line 12)",
     "output_type": "error",
     "traceback": [
      "\u001b[1;36m  File \u001b[1;32m\"<ipython-input-37-1942b41269fa>\"\u001b[1;36m, line \u001b[1;32m12\u001b[0m\n\u001b[1;33m    # if visited all nodes and the destination isn't found then return not found\u001b[0m\n\u001b[1;37m                                                                                ^\u001b[0m\n\u001b[1;31mSyntaxError\u001b[0m\u001b[1;31m:\u001b[0m unexpected EOF while parsing\n"
     ]
    }
   ],
   "source": [
    "\n",
    "def dfs_graph(graph, start, dest):                \n",
    "    visited = [] # list of visited nodes                \n",
    "    stack = []   # stack of the next nodes that can be visited              \n",
    "    path = [] # the current path from the starting node\n",
    "    stack.append(start)  # add the start node to the stack                \n",
    "    visited.append(start)   # and to the list of visited nodes             \n",
    "    while ( len(stack) > 0 ): # while the stack is not empty\n",
    "        # take the first element off the stack and add to the path\n",
    "        # for each neighbour of the node (use for neigbour in graph[current_node])\n",
    "            # if it is not in visited then add to the stack, if it is the destination then return found and print the path\n",
    "    # if visited all nodes and the destination isn't found then return not found"
   ]
  },
  {
   "cell_type": "code",
   "execution_count": 36,
   "metadata": {},
   "outputs": [
    {
     "name": "stdout",
     "output_type": "stream",
     "text": [
      "FOUND: J\n",
      "['A', 'D', 'F', 'G', 'I']\n"
     ]
    }
   ],
   "source": [
    "dfs_graph(graph, 'A', 'J')"
   ]
  },
  {
   "cell_type": "markdown",
   "metadata": {},
   "source": [
    "Change the values of the edge weights, add new nodes, delete nodes, and examine the solutions found. Does DFS always return the optimal solution? Does DFS always find a solution if one exists."
   ]
  },
  {
   "cell_type": "markdown",
   "metadata": {},
   "source": [
    "Graph search algorithms are often implemented \"recursively\" - ie with a function that calls itself."
   ]
  },
  {
   "cell_type": "code",
   "execution_count": null,
   "metadata": {},
   "outputs": [],
   "source": [
    "graph = ret_graph()\n"
   ]
  }
 ],
 "metadata": {
  "kernelspec": {
   "display_name": "Python 3",
   "language": "python",
   "name": "python3"
  },
  "language_info": {
   "codemirror_mode": {
    "name": "ipython",
    "version": 3
   },
   "file_extension": ".py",
   "mimetype": "text/x-python",
   "name": "python",
   "nbconvert_exporter": "python",
   "pygments_lexer": "ipython3",
   "version": "3.6.4"
  }
 },
 "nbformat": 4,
 "nbformat_minor": 2
}
