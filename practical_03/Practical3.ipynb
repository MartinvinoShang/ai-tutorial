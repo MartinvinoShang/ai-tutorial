{
 "cells": [
  {
   "cell_type": "markdown",
   "metadata": {},
   "source": [
    "# Practice 3"
   ]
  },
  {
   "cell_type": "markdown",
   "metadata": {},
   "source": [
    "## Constraints and Local Search\n",
    "\n",
    "This practical provides practice solving constraint problems and using local search algorithms.\n",
    "\n"
   ]
  },
  {
   "cell_type": "markdown",
   "metadata": {},
   "source": [
    "### Constraint Satisfaction Problems (CSP)\n",
    "\n",
    "In lectures the idea of solving CSPs using back-tracking was introduced. Back-tracking is a version of depth first search with enhancements to handle constraints: \n",
    "- Check constraints as you go and stop and back track when a constraint is violated (rather than waiting until an entire solution is constructed)\n",
    "- Consider one variable at a time in the depth search (rather than equivalent permutations)\n",
    "(see slide 37 in lecture 5).\n",
    "\n",
    "Additional extensions make it possible to apply back tracking to many large problems. The main extensions were arc consistency algorithms and ordering of the assignments of values to variables (and what values to assign). The reasoning of arc consistency algorithms is to keep track of possible values to assign to variables given constraints and attempting to identify that solutions will lead to inconsistency (or impossible solutions) by analysing the assignment of variables and the constraints that limit possible values for assignments."
   ]
  },
  {
   "attachments": {
    "ConstraintNetwork1.gif": {
     "image/gif": "[encoded data removed]"
    },
    "csp_example.png": {
     "image/png": "[encoded data removed]"
    }
   },
   "cell_type": "markdown",
   "metadata": {},
   "source": [
    "### Question 1\n",
    "\n",
    "#### Part 1 (A) \n",
    "Look at the url http://aispace.org/constraint/ and run the CSP solver tool and go through the mini-tutorials creating a new CSP, Loading a pre-existing CSP and solving a CSP.\n",
    "\n",
    "Arc consistency algorithms operate on constraint graphs (also called constraint networks). \n",
    "\n",
    "A constraint graph is defined by:\n",
    "- a node for each variable $X_i$ (drawn as an oval in the convention used in the tool)\n",
    "- a node for each constraint (drawn as a rectangle in the tool)\n",
    "- a set of values that could possibly be assigned to each variable $X_i$ is its domain, $D_{X_i}$\n",
    "- for every constraint $c$ and each variable $X_i$ in the scope of $c$ there is an arc $<X_i, c>$\n",
    "\n",
    "For example for a CSP with 3 variables $A, B, C$ each with domain ${1, 2, 3, 4}$ and constraints $A<B$, $B<C$ the constraint graph is as follows:\n",
    "![csp_example.png](attachment:csp_example.png)\n",
    "\n",
    "Arc consistency algorithms operate on constraint graphs.\n",
    "\n",
    "Here is a much more complex example with constraints that involve multiple variables (The variables are depicted as circles or ovals with their corresponding domain. The constraints are represented as rectangles. There is an arc between each variable and each constraint that involves that variable.)\n",
    "![ConstraintNetwork1.gif](attachment:ConstraintNetwork1.gif)\n",
    "\n",
    "Describe above CSP depicted in this constraint graph. What are the variables, variable domains and constraints. Is the constraint graph shown arc consistent?\n"
   ]
  },
  {
   "cell_type": "markdown",
   "metadata": {},
   "source": [
    "[your answer here]"
   ]
  },
  {
   "cell_type": "markdown",
   "metadata": {},
   "source": [
    "#### Part 1 (B)\n",
    "Review the slides, textbook and the above web resource and explain in pseudo code (in your own words/notation) the arc consistency algorithm. "
   ]
  },
  {
   "cell_type": "markdown",
   "metadata": {},
   "source": [
    "[your answer here]"
   ]
  },
  {
   "cell_type": "markdown",
   "metadata": {},
   "source": [
    "#### Part 1 (C) \n",
    "Arc consistency algorithms that we use do not guarantee that there is a legal solution that satisfies all constraints and this is why arc consistency algorithms must be run inside a back-tracking loop. Why? Give an example of a constraint graph and explain why in your example all arcs are consistent but there is no solution that can be found that satisfies all constraints."
   ]
  },
  {
   "cell_type": "markdown",
   "metadata": {},
   "source": [
    "[your answer here]"
   ]
  },
  {
   "cell_type": "markdown",
   "metadata": {},
   "source": [
    "#### Part 1 (D)\n",
    "Imagine the following scenario: a family of four needs to figure out how each family member will commute to work or school given several constraints. The family consists of a mother, father, son and daughter. Each family member can bicycle or ride in the car. Additionally the son has a pogo stick he can use for commuting to school. The assignment of transportation modes to family members is subject to the following constraints:\n",
    "- There are only two bicycles.\n",
    "- The car can only hold three people.\n",
    "- The son and daughter must take the same mode of transportation.\n",
    "- The son and daughter can only go by car if at least one of the parents is going by car, i.e. the parent(s) driving them to school.\n",
    "\n",
    "What are the variables in this problem? What values are in the domain of each variable? Write down your answers before continuing to the next section."
   ]
  },
  {
   "cell_type": "markdown",
   "metadata": {},
   "source": [
    "[your answer here]"
   ]
  },
  {
   "cell_type": "markdown",
   "metadata": {},
   "source": [
    "#### Part 1 (E)\n",
    "Open the consistency for CSP tool from part A and load the file http://www.aispace.org/exercises/FamCommuteCSP.xml by clicking File → Load from URL. Inspect the CSP problem closely. Are these the variables you listed in the previous section? Look at the domain of each variable. Right-click on one of the constraints and select \"Set Properties of Constraint.\" Examine the current constraint properties. Do the settings seem sensible given what you know about the constraints from section 2? Why or why not?"
   ]
  },
  {
   "cell_type": "markdown",
   "metadata": {},
   "source": [
    "[your answer here]"
   ]
  },
  {
   "cell_type": "markdown",
   "metadata": {},
   "source": [
    "#### Part 1 (F)\n",
    "Given what you know about the values in the variable domains and the given constraints, do you expect that arc consistency will remove any values from any variable's domain?\n",
    "- Click the \"Solve\" tab.\n",
    "- We will now run arc consistency. You can adjust the arc consistency speed to be slower or faster depending on how closely you want to monitor the process, by selecting CSP Options → Arc-Consistency Speed from the menu.\n",
    "- Click the \"Auto Arc-Consistency\" button to begin.\n",
    "\n",
    "Was the result what you expected? Why or why not?"
   ]
  },
  {
   "cell_type": "markdown",
   "metadata": {},
   "source": [
    "[your answer here]"
   ]
  },
  {
   "cell_type": "markdown",
   "metadata": {},
   "source": [
    "#### Part 1 (G)\n",
    "Before we try to find a solution to the CSP, make a prediction about what solution(s) exist(s). List as many as you think we will find. You can now click \"AutoSolve\" to attempt to solve the CSP. If one solution is found, you can click \"AutoSolve\" again to search for a second, third, fourth, etc. How many solutions were found and what were they?"
   ]
  },
  {
   "cell_type": "markdown",
   "metadata": {},
   "source": [
    "[your answer here]"
   ]
  },
  {
   "cell_type": "markdown",
   "metadata": {},
   "source": [
    "#### Part 1 (H)\n",
    "We'll now add an additional constraint. We want a unary constraint that says the daughter cannot go by car.\n",
    "- Go back to the \"Create\" tab.\n",
    "- Click the \"Create Constraint\" button at the top and then click on the canvas near the lower-right corner. Give the constraint a sensible name and click \"Ok.\"\n",
    "- Click the \"Add Variable to Constraint\" button and link the constraint and relevant variable by left-clicking each.\n",
    "- Look at the constraint properties table and make sure you select/unselect the correct boxes for this constraint.\n",
    "- Move back to the \"Solve tab.\" Make a prediction about how many solutions there will now be. Then go through the steps in sections 4 and 5 again.\n",
    "\n",
    "How many solutions were found? Is there a simpler way of specifying that the daughter cannot go by car, instead of adding a unary constraint as we did?"
   ]
  },
  {
   "cell_type": "markdown",
   "metadata": {},
   "source": [
    "### Question 2\n",
    "Consider the puzzle: in five houses, each with a different color, live five persons of different nationalities, each of whom prefers a different brand of candy, a different drink, and a different pet. Given the following facts, the questions to answer are \"where does the zebra live, and in which house to they drink water?\"\n",
    "- The englishman lives in the red house.\n",
    "- The spaniard owns the dog.\n",
    "- the norwegian lives in the first house on the left.\n",
    "- the green house is immediately to the right of the ivory house.\n",
    "- the man who eats hershey bars lives in the house next to the man with the fox.\n",
    "- kitkats are eaten in the yellow house.\n",
    "- the norwegian lives next to the blue house.\n",
    "- the smarties eater owns snails.\n",
    "- the snickers eater drinks orange juice.\n",
    "- the ukranian drinks tea.\n",
    "- the japanese eats milky ways.\n",
    "- the kit kats are eaten in a house where the horse is kept.\n",
    "- coffee is drunk in the green house.\n",
    "- milk is drunk in the middle house.\n",
    "\n",
    "Discuss representations of this problem as a CSP (ie what does the constraint graph look like, variables and constraints?).\n",
    "Model it using the tool from question 1 and provide the answer (which house does the zebra live in)."
   ]
  },
  {
   "cell_type": "code",
   "execution_count": null,
   "metadata": {},
   "outputs": [],
   "source": []
  }
 ],
 "metadata": {
  "kernelspec": {
   "display_name": "Python 3",
   "language": "python",
   "name": "python3"
  },
  "language_info": {
   "codemirror_mode": {
    "name": "ipython",
    "version": 3
   },
   "file_extension": ".py",
   "mimetype": "text/x-python",
   "name": "python",
   "nbconvert_exporter": "python",
   "pygments_lexer": "ipython3",
   "version": "3.6.4"
  }
 },
 "nbformat": 4,
 "nbformat_minor": 2
}
